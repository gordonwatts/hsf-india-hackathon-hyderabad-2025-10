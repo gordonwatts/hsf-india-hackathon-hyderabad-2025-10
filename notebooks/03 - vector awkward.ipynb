{
 "cells": [
  {
   "cell_type": "markdown",
   "id": "20773b91",
   "metadata": {},
   "source": [
    "# Physics-aware Event Data Modeling with Awkward Arrays and Vector\n",
    "\n",
    "| Library               | Purpose                                                                                                   |\n",
    "| --------------------- | --------------------------------------------------------------------------------------------------------- |\n",
    "| **uproot**            | Reads ROOT files into Python. Returns Awkward arrays for HEP event data.                                  |\n",
    "| **matplotlib.pyplot** | For plotting histograms or scatter plots of physics quantities.                                           |\n",
    "| **numpy**             | Numerical library for general computations (still used internally by Awkward).                            |\n",
    "| **awkward**           | Handles irregular, nested event data; the backbone of HEP columnar analysis.                              |\n",
    "| **vector**            | Adds physical meaning to data: momentum 3-vectors and Lorentz 4-vectors with built-in physics operations. |\n"
   ]
  },
  {
   "cell_type": "code",
   "execution_count": null,
   "id": "916536d5",
   "metadata": {},
   "outputs": [],
   "source": [
    "import uproot as ur\n",
    "import matplotlib.pyplot as plt\n",
    "import numpy as np\n",
    "import awkward as ak\n",
    "import vector"
   ]
  },
  {
   "cell_type": "markdown",
   "id": "592f3ea0",
   "metadata": {},
   "source": [
    "- Open the ROOT file\n",
    "- Access the event tree\n",
    "- Identify relevant branches\n",
    "- Load branches into an Awkward Array\n",
    "- Extract momentum components and energy"
   ]
  },
  {
   "cell_type": "code",
   "execution_count": 2,
   "id": "0474b8d8",
   "metadata": {},
   "outputs": [],
   "source": [
    "file =  ur.open('../pythia8NCDIS_18x275_minQ2=10_beamEffects_xAngle=-0.025_hiDiv_5.2623.eicrecon.edm4eic.root')\n",
    "tree = file['events']\n",
    "trackVars = list(filter(lambda x: ('ReconstructedChargedParticles' in x) and (not x.startswith('_')), tree.keys()))\n",
    "df = tree.arrays(trackVars, library = 'ak')\n",
    "\n",
    "_px = df['ReconstructedChargedParticles/ReconstructedChargedParticles.momentum.x']\n",
    "_py = df['ReconstructedChargedParticles/ReconstructedChargedParticles.momentum.y']\n",
    "_pz = df['ReconstructedChargedParticles/ReconstructedChargedParticles.momentum.z']\n",
    "_E = df['ReconstructedChargedParticles/ReconstructedChargedParticles.energy']"
   ]
  },
  {
   "cell_type": "markdown",
   "id": "835068f8",
   "metadata": {},
   "source": [
    "- Import the built-in “behavior” dictionary\n",
    "- Combine the 4 components into structured 4-vectors\n",
    "- How behaviors work under the hood"
   ]
  },
  {
   "cell_type": "code",
   "execution_count": null,
   "id": "2fda44c7",
   "metadata": {},
   "outputs": [
    {
     "data": {
      "text/html": [
       "<pre>[[0.337, 2.37, 0.219, 0.351, 0.79, 0.626, 0.581],\n",
       " [0.552, 0.325, 1.79, 5.56],\n",
       " [0.679, 0.468, 5.03, 0.46, 1.85, 0.186, 0.862, 0.59, 0.411],\n",
       " [1.22, 0.877, 0.691, 4.89],\n",
       " [1.11, 0.872, 0.339, 1.14, 0.31, 0.491, 0.747, 0.967, 0.571, 1.34, 3.79],\n",
       " [2.33, 1.37, 0.634, 1.2, 0.915, 0.714],\n",
       " [21.8, 0.351, 1.76, 4.93, 1.47, 3.27],\n",
       " [3.89],\n",
       " [3.96, 0.379, 1.3, 0.258, 1.11, 1.15],\n",
       " [0.472, 4.3, 0.719, 1.07, 0.954, 1.5, 0.344],\n",
       " ...,\n",
       " [0.422, 1.39, 0.555, 3.7, 0.505, 0.845, ..., 0.238, 7.79, 0.499, 0.341, 0.343],\n",
       " [0.23, 3.67, 0.23, 0.218],\n",
       " [0.372, 0.38, 1.46, 0.613, 6.14, 0.562],\n",
       " [1.41, 0.267, 4.32],\n",
       " [1.31, 0.244, 0.274, 3.36, 0.624],\n",
       " [4.32, 0.174, 3.96],\n",
       " [0.698, 1.46, 1.17, 4.19],\n",
       " [0.782, 0.914, 3.68, 0.906, 0.758, 0.789, 0.199, 0.291, 0.688],\n",
       " [3.17]]\n",
       "--------------------------------------------------------------------------------\n",
       "backend: cpu\n",
       "nbytes: 12.0 kB\n",
       "type: 380 * var * float32</pre>"
      ],
      "text/plain": [
       "<Array [[0.337, 2.37, ..., 0.626, 0.581], ...] type='380 * var * float32'>"
      ]
     },
     "execution_count": 4,
     "metadata": {},
     "output_type": "execute_result"
    }
   ],
   "source": [
    "# keep the vector in the format [{px: , py: , pz: , E: }, ...]\n",
    "behavior = vector.backends.awkward.behavior\n",
    "\n",
    "vec = ak.zip(\n",
    "    {\"px\":_px,\"py\":_py,\"pz\":_pz, \"E\": _E },\n",
    "    with_name=\"Momentum4D\",\n",
    "    behavior=behavior,\n",
    ")\n"
   ]
  },
  {
   "cell_type": "markdown",
   "id": "d54d30f2",
   "metadata": {},
   "source": [
    "Some of the built-in Behavior Attributes from the `vector` Library for `Momentum4D` Objects:\n",
    "- `vec.pt`     # transverse momentum = sqrt(px² + py²)\n",
    "- `vec.eta`    # pseudorapidity\n",
    "- `vec.phi`    # azimuthal angle\n",
    "- `vec.mass`   # invariant mass from E, px, py, pz\n",
    "- `vec.rho`    # spatial magnitude = sqrt(px² + py² + pz²)"
   ]
  },
  {
   "cell_type": "code",
   "execution_count": 5,
   "id": "ce9cb10f",
   "metadata": {},
   "outputs": [
    {
     "data": {
      "text/html": [
       "<pre>[[0.337, 2.37, 0.219, 0.351, 0.79, 0.626, 0.581],\n",
       " [0.552, 0.325, 1.79, 5.56],\n",
       " [0.679, 0.468, 5.03, 0.46, 1.85, 0.186, 0.862, 0.59, 0.411],\n",
       " [1.22, 0.877, 0.691, 4.89],\n",
       " [1.11, 0.872, 0.339, 1.14, 0.31, 0.491, 0.747, 0.967, 0.571, 1.34, 3.79],\n",
       " [2.33, 1.37, 0.634, 1.2, 0.915, 0.714],\n",
       " [21.8, 0.351, 1.76, 4.93, 1.47, 3.27],\n",
       " [3.89],\n",
       " [3.96, 0.379, 1.3, 0.258, 1.11, 1.15],\n",
       " [0.472, 4.3, 0.719, 1.07, 0.954, 1.5, 0.344],\n",
       " ...,\n",
       " [0.422, 1.39, 0.555, 3.7, 0.505, 0.845, ..., 0.238, 7.79, 0.499, 0.341, 0.343],\n",
       " [0.23, 3.67, 0.23, 0.218],\n",
       " [0.372, 0.38, 1.46, 0.613, 6.14, 0.562],\n",
       " [1.41, 0.267, 4.32],\n",
       " [1.31, 0.244, 0.274, 3.36, 0.624],\n",
       " [4.32, 0.174, 3.96],\n",
       " [0.698, 1.46, 1.17, 4.19],\n",
       " [0.782, 0.914, 3.68, 0.906, 0.758, 0.789, 0.199, 0.291, 0.688],\n",
       " [3.17]]\n",
       "--------------------------------------------------------------------------------\n",
       "backend: cpu\n",
       "nbytes: 12.0 kB\n",
       "type: 380 * var * float32</pre>"
      ],
      "text/plain": [
       "<Array [[0.337, 2.37, ..., 0.626, 0.581], ...] type='380 * var * float32'>"
      ]
     },
     "execution_count": 5,
     "metadata": {},
     "output_type": "execute_result"
    }
   ],
   "source": [
    "vec.pt"
   ]
  },
  {
   "cell_type": "code",
   "execution_count": 6,
   "id": "b2d7016b",
   "metadata": {},
   "outputs": [
    {
     "data": {
      "text/html": [
       "<pre>[[0.337, 2.37, 0.219, 0.351, 0.79, 0.626, 0.581],\n",
       " [0.552, 0.325, 1.79, 5.56],\n",
       " [0.679, 0.468, 5.03, 0.46, 1.85, 0.186, 0.862, 0.59, 0.411],\n",
       " [1.22, 0.877, 0.691, 4.89],\n",
       " [1.11, 0.872, 0.339, 1.14, 0.31, 0.491, 0.747, 0.967, 0.571, 1.34, 3.79],\n",
       " [2.33, 1.37, 0.634, 1.2, 0.915, 0.714],\n",
       " [21.8, 0.351, 1.76, 4.93, 1.47, 3.27],\n",
       " [3.89],\n",
       " [3.96, 0.379, 1.3, 0.258, 1.11, 1.15],\n",
       " [0.472, 4.3, 0.719, 1.07, 0.954, 1.5, 0.344],\n",
       " ...,\n",
       " [0.422, 1.39, 0.555, 3.7, 0.505, 0.845, ..., 0.238, 7.79, 0.499, 0.341, 0.343],\n",
       " [0.23, 3.67, 0.23, 0.218],\n",
       " [0.372, 0.38, 1.46, 0.613, 6.14, 0.562],\n",
       " [1.41, 0.267, 4.32],\n",
       " [1.31, 0.244, 0.274, 3.36, 0.624],\n",
       " [4.32, 0.174, 3.96],\n",
       " [0.698, 1.46, 1.17, 4.19],\n",
       " [0.782, 0.914, 3.68, 0.906, 0.758, 0.789, 0.199, 0.291, 0.688],\n",
       " [3.17]]\n",
       "--------------------------------------------------------------------------------\n",
       "backend: cpu\n",
       "nbytes: 12.0 kB\n",
       "type: 380 * var * float32</pre>"
      ],
      "text/plain": [
       "<Array [[0.337, 2.37, ..., 0.626, 0.581], ...] type='380 * var * float32'>"
      ]
     },
     "execution_count": 6,
     "metadata": {},
     "output_type": "execute_result"
    }
   ],
   "source": [
    "vec.rho"
   ]
  },
  {
   "cell_type": "code",
   "execution_count": 7,
   "id": "613c85ec",
   "metadata": {},
   "outputs": [
    {
     "data": {
      "text/html": [
       "<pre>[[0.14, 0.14, 0.14, 0.14, 0.14, 0.14, 0.14],\n",
       " [0.14, 0.14, 0.14, -0.00677],\n",
       " [0.14, 0.494, 0.00781, 0.14, 0.14, 0.14, 0.14, 0.00478, 0.14],\n",
       " [0.14, 0.14, 0.14, 0],\n",
       " [0.14, 0.000488, 0.14, 0.494, 0.14, ..., 0.14, 0.14, 0.14, 0.494, 0.139],\n",
       " [0.14, 0.00391, 0.000488, 0.494, 0.14, -0.000691],\n",
       " [0, 0.14, 0.14, 0.00276, -0.00138, 0],\n",
       " [0.00552],\n",
       " [0, 0.14, 0.00781, 8.63e-05, 0.14, 0.000598],\n",
       " [0.14, 0.00391, 0.14, 0.14, 0.14, 0.00781, 0.14],\n",
       " ...,\n",
       " [0.14, 0.938, 0.14, 0.000977, -0.000488, ..., -0.00391, 0.494, 0.000691, 0.14],\n",
       " [0.000244, 0.00391, 0.14, 0.14],\n",
       " [0, 0.14, 0.14, 0.14, 0, 0.14],\n",
       " [0.14, 0.14, 0.494],\n",
       " [0.14, 0.14, 0.14, 0, 0.494],\n",
       " [0.00552, 0.14, 0.139],\n",
       " [0.14, 0.494, 0.14, 0],\n",
       " [0.494, 0.14, 0.14, 0.14, 0.14, 0.000488, 0.000546, 0.14, 0.14],\n",
       " [0.00552]]\n",
       "--------------------------------------------------------------------------------\n",
       "backend: cpu\n",
       "nbytes: 12.0 kB\n",
       "type: 380 * var * float32</pre>"
      ],
      "text/plain": [
       "<Array [[0.14, 0.14, 0.14, ..., 0.14, 0.14], ...] type='380 * var * float32'>"
      ]
     },
     "execution_count": 7,
     "metadata": {},
     "output_type": "execute_result"
    }
   ],
   "source": [
    "vec.mass"
   ]
  },
  {
   "cell_type": "code",
   "execution_count": 9,
   "id": "7c06d790",
   "metadata": {},
   "outputs": [
    {
     "data": {
      "image/png": "[encoded data removed]",
      "text/plain": [
       "<Figure size 640x480 with 1 Axes>"
      ]
     },
     "metadata": {},
     "output_type": "display_data"
    }
   ],
   "source": [
    "# Transverse momentum distribution\n",
    "plt.hist(ak.flatten(vec.pt), bins=50, range=(0,10), color='orange')\n",
    "plt.xlabel(\"pT [GeV]\")\n",
    "plt.ylabel(\"Tracks\")\n",
    "plt.show()"
   ]
  },
  {
   "cell_type": "code",
   "execution_count": null,
   "id": "d71ae0a5",
   "metadata": {},
   "outputs": [],
   "source": []
  }
 ],
 "metadata": {
  "kernelspec": {
   "display_name": "hsf-hackathon",
   "language": "python",
   "name": "python3"
  },
  "language_info": {
   "codemirror_mode": {
    "name": "ipython",
    "version": 3
   },
   "file_extension": ".py",
   "mimetype": "text/x-python",
   "name": "python",
   "nbconvert_exporter": "python",
   "pygments_lexer": "ipython3",
   "version": "3.14.0"
  }
 },
 "nbformat": 4,
 "nbformat_minor": 5
}
